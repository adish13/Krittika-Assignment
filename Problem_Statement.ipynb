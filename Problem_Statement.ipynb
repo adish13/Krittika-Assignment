{
 "cells": [
  {
   "cell_type": "markdown",
   "id": "increased-fleet",
   "metadata": {},
   "source": [
    "# Krittika Convener Selection Assignments\n",
    "## Python Assignment"
   ]
  },
  {
   "cell_type": "markdown",
   "id": "cubic-marsh",
   "metadata": {},
   "source": [
    "1. You may find the **KSP tutorials** useful: https://github.com/krittikaiitb/tutorials - Tutorials 1,2,3, and 4 are particularly relevant. These cover basic `python`, `numpy`, functions in `python` and `matplotlib` respectively.\n",
    "\n",
    "2. A helpful reminder that executing a cell with `help` (for example: `help(np.loadtxt)` or `np.loadtxt?`) will show the documentation for that function.\n",
    "\n",
    "3. The use of internet is completely ALLOWED for solving this assignment.\n",
    "4. Feel free to use multiple cells for your solutions. But keep them separate for each question (don't use a cell to solve Q1 after Q2)"
   ]
  },
  {
   "cell_type": "markdown",
   "id": "progressive-cathedral",
   "metadata": {},
   "source": [
    "### Q1: Parsing Form Responses (10 points)\n",
    "Suppose you have collected responses from various IITB students using a google form and the responses have been extracted as a csv file. You want to mail all the people who have filled the form now. The email client used by LDAP mail accepts a single string of comma separated email adresses (note that {rollnumber}@iitb.ac.in will redirect to respective student). \n",
    "\n",
    "Your task is to parse the CSV file and generate the comma separated string."
   ]
  },
  {
   "cell_type": "markdown",
   "id": "hungry-rocket",
   "metadata": {},
   "source": [
    "For example, if the csv file contains \n",
    "\n",
    "| Sr. No | Name | Roll Number |\n",
    "| -------- | -------- | -------- |\n",
    "| 1     | Newton     | 2000001    |\n",
    "| 2     | Galileo     | 2000005    |\n",
    "| 3     | Kepler     | 2000010    |\n",
    "\n",
    "\n",
    "Then your program should print the string `2000001@iitb.ac.in, 2000005@iitb.ac.in, 2000010@iitb.ac.in`"
   ]
  },
  {
   "cell_type": "code",
   "execution_count": 1,
   "id": "stretch-practice",
   "metadata": {},
   "outputs": [],
   "source": [
    "file1 = \"Dataset_Q1.csv\""
   ]
  },
  {
   "cell_type": "markdown",
   "id": "opening-penguin",
   "metadata": {},
   "source": [
    "You may find `numpy.loadtxt` or `numpy.genfromtxt` to be useful here. Feel free to use any method you wish to load the data from `file1`.\n",
    "\n",
    "Write your code as a function that takes in the data file as input and returns the relevant string."
   ]
  },
  {
   "cell_type": "code",
   "execution_count": 2,
   "id": "surprised-adventure",
   "metadata": {},
   "outputs": [],
   "source": [
    "# Solution Code\n",
    "import pandas as pd\n",
    "email_df = pd.read_csv(file1)\n",
    "def get_emails(file):\n",
    "    email_string = ''\n",
    "    for i in range(file.shape[0]-1):\n",
    "        email_string += str(file['Roll Number'][i])+'@iitb.ac.in, '\n",
    "    email_string += str(file['Roll Number'][file.shape[0]-1])+'@iitb.ac.in'\n",
    "    return email_string"
   ]
  },
  {
   "cell_type": "code",
   "execution_count": 3,
   "id": "forward-barrier",
   "metadata": {},
   "outputs": [
    {
     "name": "stdout",
     "output_type": "stream",
     "text": [
      "20000003@iitb.ac.in, 20000006@iitb.ac.in, 20010000@iitb.ac.in, 19020000@iitb.ac.in, 20000304@iitb.ac.in\n"
     ]
    }
   ],
   "source": [
    "print(get_emails(email_df))"
   ]
  },
  {
   "cell_type": "markdown",
   "id": "manual-feelings",
   "metadata": {},
   "source": [
    "### Q2: The moons of Endor (20 points)\n",
    "\n",
    "Endor is a fictional planet from the [Star Wars](https://starwars.fandom.com/wiki/Endor_(planet)) universe which has 9 major moons. The masses, semimajor axes and time periods of each of these moons is given in `Dataset_Q2.csv`. The masses (*m*) are given as a fraction of the mass of Endor itself, the semimajor axis (*a*) as a fraction of the radius of Endor and time period (*T*) in Endor days.\n",
    "\n",
    "<b style='color:red;'>Note for Star Wars fans</b>: First, are you ok? Second, the values are fabricated, don't go looking for reasons why the data can't hold up to random in-universe information."
   ]
  },
  {
   "cell_type": "code",
   "execution_count": 4,
   "id": "hindu-bulgarian",
   "metadata": {},
   "outputs": [],
   "source": [
    "file2 = 'Dataset_Q2.csv'"
   ]
  },
  {
   "cell_type": "markdown",
   "id": "adverse-julian",
   "metadata": {},
   "source": [
    "Recall the usual Kepler's third law which can be written as \n",
    "$$\\frac{a^{3/2}}{T} = \\sqrt{\\frac{G(M_{planet}+m_{moon})}{4\\pi^2}}$$\n",
    "where $a$ is the semimajor axis, $T$ is the time period, $M_{planet}$ is the mass of the planet, $m_{moon}$ is the mass of the moon, and $G$ is the universal gravitational constant.\n",
    "\n",
    "\n",
    "We plan to fit the data we have to the power law relation \n",
    "$$\\frac{a^{x}}{T} = \\sqrt{\\frac{G(M_{planet}+m_{moon})}{4\\pi^2}}$$\n",
    "\n",
    "Your task is to determine the constant $x$ by fitting the given 'experimental' data and decide whether Kepler's law (with $x$ = 1.5) holds, in the galaxy far far away (where star wars happens). Also find the value of $G$ in the given unit system.\n",
    "\n",
    "\n",
    "Hint: `numpy.polyfit` or `scipy.optimize.curve_fit` (and maybe `numpy.log`) might be useful for solving this question."
   ]
  },
  {
   "cell_type": "code",
   "execution_count": 5,
   "id": "everyday-wings",
   "metadata": {},
   "outputs": [],
   "source": [
    "#Importing pandas, numpy and math libraries\n",
    "\n",
    "import pandas as pd\n",
    "import numpy as np\n",
    "import math"
   ]
  },
  {
   "cell_type": "code",
   "execution_count": 6,
   "id": "occupied-olive",
   "metadata": {},
   "outputs": [
    {
     "data": {
      "text/html": [
       "<div>\n",
       "<style scoped>\n",
       "    .dataframe tbody tr th:only-of-type {\n",
       "        vertical-align: middle;\n",
       "    }\n",
       "\n",
       "    .dataframe tbody tr th {\n",
       "        vertical-align: top;\n",
       "    }\n",
       "\n",
       "    .dataframe thead th {\n",
       "        text-align: right;\n",
       "    }\n",
       "</style>\n",
       "<table border=\"1\" class=\"dataframe\">\n",
       "  <thead>\n",
       "    <tr style=\"text-align: right;\">\n",
       "      <th></th>\n",
       "      <th># mass(in EndorMasses)</th>\n",
       "      <th>Time Period(in EndorDays)</th>\n",
       "      <th>Semimajor axis(in EndorRadii)</th>\n",
       "    </tr>\n",
       "  </thead>\n",
       "  <tbody>\n",
       "    <tr>\n",
       "      <th>0</th>\n",
       "      <td>0.0100</td>\n",
       "      <td>60.01</td>\n",
       "      <td>81.837252</td>\n",
       "    </tr>\n",
       "    <tr>\n",
       "      <th>1</th>\n",
       "      <td>0.0040</td>\n",
       "      <td>115.62</td>\n",
       "      <td>108.672544</td>\n",
       "    </tr>\n",
       "    <tr>\n",
       "      <th>2</th>\n",
       "      <td>0.0033</td>\n",
       "      <td>237.53</td>\n",
       "      <td>143.725178</td>\n",
       "    </tr>\n",
       "    <tr>\n",
       "      <th>3</th>\n",
       "      <td>0.0015</td>\n",
       "      <td>35.57</td>\n",
       "      <td>68.362591</td>\n",
       "    </tr>\n",
       "    <tr>\n",
       "      <th>4</th>\n",
       "      <td>0.0070</td>\n",
       "      <td>180.63</td>\n",
       "      <td>127.421197</td>\n",
       "    </tr>\n",
       "  </tbody>\n",
       "</table>\n",
       "</div>"
      ],
      "text/plain": [
       "   # mass(in EndorMasses)  Time Period(in EndorDays)  \\\n",
       "0                  0.0100                      60.01   \n",
       "1                  0.0040                     115.62   \n",
       "2                  0.0033                     237.53   \n",
       "3                  0.0015                      35.57   \n",
       "4                  0.0070                     180.63   \n",
       "\n",
       "   Semimajor axis(in EndorRadii)  \n",
       "0                      81.837252  \n",
       "1                     108.672544  \n",
       "2                     143.725178  \n",
       "3                      68.362591  \n",
       "4                     127.421197  "
      ]
     },
     "execution_count": 6,
     "metadata": {},
     "output_type": "execute_result"
    }
   ],
   "source": [
    "file2_df = pd.read_csv(file2)\n",
    "file2_df.head()"
   ]
  },
  {
   "cell_type": "code",
   "execution_count": 7,
   "id": "significant-airplane",
   "metadata": {},
   "outputs": [],
   "source": [
    "mass = '# mass(in EndorMasses)'\n",
    "time = 'Time Period(in EndorDays)'\n",
    "a = 'Semimajor axis(in EndorRadii)'"
   ]
  },
  {
   "cell_type": "markdown",
   "id": "classical-enemy",
   "metadata": {},
   "source": [
    "Power law equation in logarithmic form : \n",
    "$$\\frac{a^{x}}{T} = \\sqrt{\\frac{G(M_{planet}+m_{moon})}{4\\pi^2}}$$\n",
    "In Endor units, $$\\frac{a^{x}}{T_{in EndorDays}} = \\sqrt{\\frac{G(1+m_{moon/planet})}{4\\pi^2}}$$ \n",
    "\n",
    "\n",
    "$$ x\\log{a} = \\log{(T\\sqrt{\\frac{G(1 +m)}{4\\pi^2}})} $$\n",
    "\n",
    "$$ x\\log{a} - \\log{\\sqrt{G}} = \\log{(T\\sqrt{\\frac{1+m}{4\\pi^2}})} $$\n",
    "Taking RHS = y , we have our logarithmic form of power law equation which is : \n",
    "\n",
    "$$    y = x\\log{a} -\\log{\\sqrt{G}}   $$\n",
    "\n",
    "Here log represents natural logarithm\n"
   ]
  },
  {
   "cell_type": "code",
   "execution_count": 8,
   "id": "residential-yemen",
   "metadata": {},
   "outputs": [
    {
     "name": "stdout",
     "output_type": "stream",
     "text": [
      "27916075.17300707\n"
     ]
    }
   ],
   "source": [
    "def y(T,m):\n",
    "    return math.log((T*math.sqrt(m+1))/(2*math.pi))\n",
    "\n",
    "y_array= []\n",
    "for i in range(file2_df.shape[0]):\n",
    "    y_array.append( y(file2_df[time][i],file2_df[mass][i]))\n",
    "\n",
    "y_array = np.array(y_array)   \n",
    "\n",
    "a_array = np.array(np.log(file2_df[a]))        \n",
    "                \n",
    "weights = np.polyfit(a_array,y_array,1)\n",
    "\n",
    "x = weights[0]\n",
    "G = math.exp(-2*weights[1])\n",
    "print(G)"
   ]
  },
  {
   "cell_type": "code",
   "execution_count": 9,
   "id": "industrial-texture",
   "metadata": {},
   "outputs": [
    {
     "name": "stdout",
     "output_type": "stream",
     "text": [
      "x=2.459830979110407\n"
     ]
    }
   ],
   "source": [
    "print('x={}'.format(x))"
   ]
  },
  {
   "cell_type": "markdown",
   "id": "turkish-soccer",
   "metadata": {},
   "source": [
    "## Q2 Bonus (10 points): \n",
    "Make a plot of the power law curve you have found, and the scatter plot the data points on top of this curve, to establish that your fit is good."
   ]
  },
  {
   "cell_type": "markdown",
   "id": "muslim-yukon",
   "metadata": {},
   "source": [
    "We have the power law equation in **logarithmic** form as \n",
    "$$    y = x\\log{a} -\\log{\\sqrt{G}}$$  \n",
    "where y = $$ \\log{(T\\sqrt{\\frac{1+m}{4\\pi^2}})} $$\n",
    "\n",
    "\n",
    "x and G are the values used from the previous calculation"
   ]
  },
  {
   "cell_type": "code",
   "execution_count": 10,
   "id": "exact-marketing",
   "metadata": {},
   "outputs": [
    {
     "data": {
      "image/png": "[encoded data removed]",
      "text/plain": [
       "<Figure size 432x288 with 1 Axes>"
      ]
     },
     "metadata": {
      "needs_background": "light"
     },
     "output_type": "display_data"
    }
   ],
   "source": [
    "# Code here\n",
    "import matplotlib.pyplot as plt\n",
    "# Equation := y = xlna + c  \n",
    "# where y = ln(T* sqrt(1+mass)/2 pi)\n",
    "# c = - ln(sqrt(G))\n",
    "x_points = np.array([3, 6])\n",
    "y_points = np.array(x_points*weights[0]+weights[1])\n",
    "\n",
    "scatter_x = a_array\n",
    "scatter_y = y_array\n",
    "plt.plot(x_points,y_points)\n",
    "plt.scatter(scatter_x,scatter_y)\n",
    "plt.title(\"Power Law curve in logarithmic form\")\n",
    "plt.xlabel(' log(a) where a is semi-major axis')\n",
    "plt.ylabel('y')\n",
    "plt.show()"
   ]
  },
  {
   "cell_type": "code",
   "execution_count": null,
   "id": "small-things",
   "metadata": {},
   "outputs": [],
   "source": []
  }
 ],
 "metadata": {
  "kernelspec": {
   "display_name": "Python 3",
   "language": "python",
   "name": "python3"
  },
  "language_info": {
   "codemirror_mode": {
    "name": "ipython",
    "version": 3
   },
   "file_extension": ".py",
   "mimetype": "text/x-python",
   "name": "python",
   "nbconvert_exporter": "python",
   "pygments_lexer": "ipython3",
   "version": "3.8.5"
  }
 },
 "nbformat": 4,
 "nbformat_minor": 5
}
